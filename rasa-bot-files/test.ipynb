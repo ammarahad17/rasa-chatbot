{
 "cells": [
  {
   "cell_type": "code",
   "execution_count": 3,
   "metadata": {},
   "outputs": [
    {
     "data": {
      "text/html": [
       "<div>\n",
       "<style scoped>\n",
       "    .dataframe tbody tr th:only-of-type {\n",
       "        vertical-align: middle;\n",
       "    }\n",
       "\n",
       "    .dataframe tbody tr th {\n",
       "        vertical-align: top;\n",
       "    }\n",
       "\n",
       "    .dataframe thead th {\n",
       "        text-align: right;\n",
       "    }\n",
       "</style>\n",
       "<table border=\"1\" class=\"dataframe\">\n",
       "  <thead>\n",
       "    <tr style=\"text-align: right;\">\n",
       "      <th></th>\n",
       "      <th>questions</th>\n",
       "    </tr>\n",
       "  </thead>\n",
       "  <tbody>\n",
       "    <tr>\n",
       "      <th>0</th>\n",
       "      <td>{'question': 'How can I create an account?', '...</td>\n",
       "    </tr>\n",
       "    <tr>\n",
       "      <th>1</th>\n",
       "      <td>{'question': 'What payment methods do you acce...</td>\n",
       "    </tr>\n",
       "    <tr>\n",
       "      <th>2</th>\n",
       "      <td>{'question': 'How can I track my order?', 'ans...</td>\n",
       "    </tr>\n",
       "    <tr>\n",
       "      <th>3</th>\n",
       "      <td>{'question': 'What is your return policy?', 'a...</td>\n",
       "    </tr>\n",
       "    <tr>\n",
       "      <th>4</th>\n",
       "      <td>{'question': 'Can I cancel my order?', 'answer...</td>\n",
       "    </tr>\n",
       "    <tr>\n",
       "      <th>...</th>\n",
       "      <td>...</td>\n",
       "    </tr>\n",
       "    <tr>\n",
       "      <th>74</th>\n",
       "      <td>{'question': 'Can I order a product if it is l...</td>\n",
       "    </tr>\n",
       "    <tr>\n",
       "      <th>75</th>\n",
       "      <td>{'question': 'Can I return a product if it was...</td>\n",
       "    </tr>\n",
       "    <tr>\n",
       "      <th>76</th>\n",
       "      <td>{'question': 'Can I request a product if it is...</td>\n",
       "    </tr>\n",
       "    <tr>\n",
       "      <th>77</th>\n",
       "      <td>{'question': 'Can I order a product if it is l...</td>\n",
       "    </tr>\n",
       "    <tr>\n",
       "      <th>78</th>\n",
       "      <td>{'question': 'Can I return a product if it was...</td>\n",
       "    </tr>\n",
       "  </tbody>\n",
       "</table>\n",
       "<p>79 rows × 1 columns</p>\n",
       "</div>"
      ],
      "text/plain": [
       "                                            questions\n",
       "0   {'question': 'How can I create an account?', '...\n",
       "1   {'question': 'What payment methods do you acce...\n",
       "2   {'question': 'How can I track my order?', 'ans...\n",
       "3   {'question': 'What is your return policy?', 'a...\n",
       "4   {'question': 'Can I cancel my order?', 'answer...\n",
       "..                                                ...\n",
       "74  {'question': 'Can I order a product if it is l...\n",
       "75  {'question': 'Can I return a product if it was...\n",
       "76  {'question': 'Can I request a product if it is...\n",
       "77  {'question': 'Can I order a product if it is l...\n",
       "78  {'question': 'Can I return a product if it was...\n",
       "\n",
       "[79 rows x 1 columns]"
      ]
     },
     "execution_count": 3,
     "metadata": {},
     "output_type": "execute_result"
    }
   ],
   "source": [
    "# df = pd.read_json('Ecommerce_FAQ_Chatbot_dataset.json')\n",
    "# df"
   ]
  },
  {
   "cell_type": "code",
   "execution_count": 9,
   "metadata": {},
   "outputs": [],
   "source": [
    "import gzip\n",
    "\n",
    "with gzip.open('meta_Video_Games.json.gz', 'rb') as f_in, open('product.json', 'wb') as f_out:\n",
    "    f_out.writelines(f_in)\n"
   ]
  },
  {
   "cell_type": "code",
   "execution_count": 24,
   "metadata": {},
   "outputs": [
    {
     "data": {
      "text/html": [
       "<div>\n",
       "<style scoped>\n",
       "    .dataframe tbody tr th:only-of-type {\n",
       "        vertical-align: middle;\n",
       "    }\n",
       "\n",
       "    .dataframe tbody tr th {\n",
       "        vertical-align: top;\n",
       "    }\n",
       "\n",
       "    .dataframe thead th {\n",
       "        text-align: right;\n",
       "    }\n",
       "</style>\n",
       "<table border=\"1\" class=\"dataframe\">\n",
       "  <thead>\n",
       "    <tr style=\"text-align: right;\">\n",
       "      <th></th>\n",
       "      <th>title</th>\n",
       "      <th>description</th>\n",
       "      <th>imageURLHighRes</th>\n",
       "      <th>price</th>\n",
       "      <th>asin</th>\n",
       "    </tr>\n",
       "  </thead>\n",
       "  <tbody>\n",
       "    <tr>\n",
       "      <th>0</th>\n",
       "      <td>X. L. Carbon Fiber Money Clip, made in the USA</td>\n",
       "      <td>['When you pull out your extra large carbon fi...</td>\n",
       "      <td>['https://images-na.ssl-images-amazon.com/imag...</td>\n",
       "      <td>$14.99</td>\n",
       "      <td>9654263246</td>\n",
       "    </tr>\n",
       "    <tr>\n",
       "      <th>1</th>\n",
       "      <td>Shimmer Anne Shine Clip On Costume/Halloween C...</td>\n",
       "      <td>['A fun addition to any costume party, play, o...</td>\n",
       "      <td>['https://images-na.ssl-images-amazon.com/imag...</td>\n",
       "      <td>$6.99</td>\n",
       "      <td>B00004T3SN</td>\n",
       "    </tr>\n",
       "    <tr>\n",
       "      <th>2</th>\n",
       "      <td>Buxton Heiress Pik-Me-Up Framed Case</td>\n",
       "      <td>['Authentic crunch leather with rich floral em...</td>\n",
       "      <td>['https://images-na.ssl-images-amazon.com/imag...</td>\n",
       "      <td>$16.95</td>\n",
       "      <td>B00007GDFV</td>\n",
       "    </tr>\n",
       "    <tr>\n",
       "      <th>3</th>\n",
       "      <td>Long Blonde Witch Wig</td>\n",
       "      <td>[\"Rubie's Costume Company has designed quality...</td>\n",
       "      <td>['https://images-na.ssl-images-amazon.com/imag...</td>\n",
       "      <td>$9.02</td>\n",
       "      <td>B0000A9Y61</td>\n",
       "    </tr>\n",
       "    <tr>\n",
       "      <th>4</th>\n",
       "      <td>Moria Orc Costume TM Mask from Lord of the Rings</td>\n",
       "      <td>['March for Mordor! Lead the Charge as a Moria...</td>\n",
       "      <td>['https://images-na.ssl-images-amazon.com/imag...</td>\n",
       "      <td>$45.46</td>\n",
       "      <td>B0000AOE9U</td>\n",
       "    </tr>\n",
       "  </tbody>\n",
       "</table>\n",
       "</div>"
      ],
      "text/plain": [
       "                                               title  \\\n",
       "0     X. L. Carbon Fiber Money Clip, made in the USA   \n",
       "1  Shimmer Anne Shine Clip On Costume/Halloween C...   \n",
       "2               Buxton Heiress Pik-Me-Up Framed Case   \n",
       "3                              Long Blonde Witch Wig   \n",
       "4   Moria Orc Costume TM Mask from Lord of the Rings   \n",
       "\n",
       "                                         description  \\\n",
       "0  ['When you pull out your extra large carbon fi...   \n",
       "1  ['A fun addition to any costume party, play, o...   \n",
       "2  ['Authentic crunch leather with rich floral em...   \n",
       "3  [\"Rubie's Costume Company has designed quality...   \n",
       "4  ['March for Mordor! Lead the Charge as a Moria...   \n",
       "\n",
       "                                     imageURLHighRes   price        asin  \n",
       "0  ['https://images-na.ssl-images-amazon.com/imag...  $14.99  9654263246  \n",
       "1  ['https://images-na.ssl-images-amazon.com/imag...   $6.99  B00004T3SN  \n",
       "2  ['https://images-na.ssl-images-amazon.com/imag...  $16.95  B00007GDFV  \n",
       "3  ['https://images-na.ssl-images-amazon.com/imag...   $9.02  B0000A9Y61  \n",
       "4  ['https://images-na.ssl-images-amazon.com/imag...  $45.46  B0000AOE9U  "
      ]
     },
     "execution_count": 24,
     "metadata": {},
     "output_type": "execute_result"
    }
   ],
   "source": [
    "import pandas as pd\n",
    "df = pd.read_csv(\"product_data.csv\")\n",
    "df.head()"
   ]
  },
  {
   "cell_type": "code",
   "execution_count": 26,
   "metadata": {},
   "outputs": [],
   "source": [
    "df.dropna(inplace=True)\n",
    "df.reset_index(inplace=True)\n",
    "df.drop('index',axis=1,inplace=True)"
   ]
  },
  {
   "cell_type": "code",
   "execution_count": 27,
   "metadata": {},
   "outputs": [
    {
     "data": {
      "text/plain": [
       "Index(['title', 'description', 'imageURLHighRes', 'price', 'asin'], dtype='object')"
      ]
     },
     "execution_count": 27,
     "metadata": {},
     "output_type": "execute_result"
    }
   ],
   "source": [
    "df.columns"
   ]
  },
  {
   "cell_type": "code",
   "execution_count": 29,
   "metadata": {},
   "outputs": [],
   "source": [
    "import ast\n",
    "\n",
    "# Apply ast.literal_eval to the 'description' column\n",
    "df['description'] = df['description'].apply(lambda x: ast.literal_eval(x)[0])\n",
    "# Apply ast.literal_eval to the 'description' column\n",
    "df['imageURLHighRes'] = df['imageURLHighRes'].apply(lambda x: ast.literal_eval(x)[0])"
   ]
  },
  {
   "cell_type": "code",
   "execution_count": 35,
   "metadata": {},
   "outputs": [
    {
     "data": {
      "text/plain": [
       "'https://images-na.ssl-images-amazon.com/images/I/41U3SgbuxwL.jpg'"
      ]
     },
     "execution_count": 35,
     "metadata": {},
     "output_type": "execute_result"
    }
   ],
   "source": [
    "df['imageURLHighRes'][0]"
   ]
  },
  {
   "cell_type": "code",
   "execution_count": 36,
   "metadata": {},
   "outputs": [],
   "source": [
    "df.to_csv('cleaned_product_data.csv',index_label=False)"
   ]
  },
  {
   "cell_type": "code",
   "execution_count": 1,
   "metadata": {},
   "outputs": [
    {
     "data": {
      "text/plain": [
       "Index(['title', 'description', 'imageURLHighRes', 'price', 'asin'], dtype='object')"
      ]
     },
     "execution_count": 1,
     "metadata": {},
     "output_type": "execute_result"
    }
   ],
   "source": [
    "import pandas as pd\n",
    "df = pd.read_csv('cleaned_product_data.csv')\n",
    "df.columns"
   ]
  }
 ],
 "metadata": {
  "kernelspec": {
   "display_name": "Python 3",
   "language": "python",
   "name": "python3"
  },
  "language_info": {
   "codemirror_mode": {
    "name": "ipython",
    "version": 3
   },
   "file_extension": ".py",
   "mimetype": "text/x-python",
   "name": "python",
   "nbconvert_exporter": "python",
   "pygments_lexer": "ipython3",
   "version": "3.10.0"
  }
 },
 "nbformat": 4,
 "nbformat_minor": 2
}
